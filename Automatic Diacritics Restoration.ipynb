{
  "nbformat": 4,
  "nbformat_minor": 0,
  "metadata": {
    "accelerator": "GPU",
    "colab": {
      "name": "Linh-GRU.ipynb",
      "provenance": [],
      "collapsed_sections": [],
      "toc_visible": true,
      "machine_shape": "hm"
    },
    "kernelspec": {
      "display_name": "Python 3",
      "name": "python3"
    }
  },
  "cells": [
    {
      "cell_type": "code",
      "metadata": {
        "colab": {
          "base_uri": "https://localhost:8080/"
        },
        "id": "ZdoX2tRITb0y",
        "outputId": "120693bb-a42c-485e-e2b8-af7a739204e1"
      },
      "source": [
        "!pip install unidecode"
      ],
      "execution_count": null,
      "outputs": [
        {
          "output_type": "stream",
          "text": [
            "Collecting unidecode\n",
            "\u001b[?25l  Downloading https://files.pythonhosted.org/packages/9e/25/723487ca2a52ebcee88a34d7d1f5a4b80b793f179ee0f62d5371938dfa01/Unidecode-1.2.0-py2.py3-none-any.whl (241kB)\n",
            "\u001b[K     |████████████████████████████████| 245kB 4.3MB/s \n",
            "\u001b[?25hInstalling collected packages: unidecode\n",
            "Successfully installed unidecode-1.2.0\n"
          ],
          "name": "stdout"
        }
      ]
    },
    {
      "cell_type": "code",
      "metadata": {
        "id": "9ablx051HFBi"
      },
      "source": [
        "import pandas as pd\n",
        "pd.options.display.max_rows=999999\n",
        "import string\n",
        "import numpy as np\n",
        "\n",
        "import os\n",
        "import re\n",
        "\n",
        "from datetime import datetime\n",
        "import time\n",
        "import pytz\n",
        "\n",
        "import warnings\n",
        "warnings.simplefilter(\"ignore\")\n",
        "\n",
        "import joblib\n",
        "from datetime import datetime\n",
        "import time\n",
        "import pytz\n",
        "\n",
        "tz = pytz.timezone('Asia/Saigon')\n",
        "now = datetime.now(tz)\n",
        "from keras.preprocessing.text import Tokenizer\n",
        "from keras.preprocessing.sequence import pad_sequences\n",
        "from unidecode import unidecode\n",
        "from sklearn.metrics import f1_score, precision_score, recall_score, confusion_matrix, accuracy_score\n",
        "from keras.optimizers import SGD\n"
      ],
      "execution_count": null,
      "outputs": []
    },
    {
      "cell_type": "code",
      "metadata": {
        "colab": {
          "base_uri": "https://localhost:8080/"
        },
        "id": "Ap_JYBqzaYLm",
        "outputId": "186fc59a-fa9c-495c-ede4-dcebe307666f"
      },
      "source": [
        "from google.colab import drive\n",
        "drive.mount('/content/drive')"
      ],
      "execution_count": null,
      "outputs": [
        {
          "output_type": "stream",
          "text": [
            "Mounted at /content/drive\n"
          ],
          "name": "stdout"
        }
      ]
    },
    {
      "cell_type": "markdown",
      "metadata": {
        "id": "bqeHSCJNTqHN"
      },
      "source": [
        "# Read dataset"
      ]
    },
    {
      "cell_type": "code",
      "metadata": {
        "id": "4QRI27DJHpXw"
      },
      "source": [
        "\n",
        "df = pd.read_csv('/content/drive/MyDrive/Deep Learning/baseline/Tokenize02/Tokenize02_dataclean.csv')\n"
      ],
      "execution_count": null,
      "outputs": []
    },
    {
      "cell_type": "markdown",
      "metadata": {
        "id": "AZpQa3wiWvrj"
      },
      "source": [
        "### Gom từ haha\n"
      ]
    },
    {
      "cell_type": "code",
      "metadata": {
        "id": "1AJlfaGXiNrJ",
        "colab": {
          "base_uri": "https://localhost:8080/",
          "height": 272
        },
        "outputId": "546ce615-47aa-4bf4-fae2-cbd0e186b191"
      },
      "source": [
        "df.columns = df.columns.astype('str')\n",
        "df.dropna(inplace=True)\n",
        "df.head()\n"
      ],
      "execution_count": null,
      "outputs": [
        {
          "output_type": "execute_result",
          "data": {
            "text/html": [
              "<div>\n",
              "<style scoped>\n",
              "    .dataframe tbody tr th:only-of-type {\n",
              "        vertical-align: middle;\n",
              "    }\n",
              "\n",
              "    .dataframe tbody tr th {\n",
              "        vertical-align: top;\n",
              "    }\n",
              "\n",
              "    .dataframe thead th {\n",
              "        text-align: right;\n",
              "    }\n",
              "</style>\n",
              "<table border=\"1\" class=\"dataframe\">\n",
              "  <thead>\n",
              "    <tr style=\"text-align: right;\">\n",
              "      <th></th>\n",
              "      <th>original_signed</th>\n",
              "      <th>vn_token</th>\n",
              "      <th>unsigned</th>\n",
              "    </tr>\n",
              "  </thead>\n",
              "  <tbody>\n",
              "    <tr>\n",
              "      <th>0</th>\n",
              "      <td>đó là chủ đề sắc màu âm nhạc tháng sẽ diễn ra ...</td>\n",
              "      <td>đó là chủ_đề sắc_màu âm_nhạc tháng sẽ diễn ra ...</td>\n",
              "      <td>do la chu_de sac_mau am_nhac thang se dien ra ...</td>\n",
              "    </tr>\n",
              "    <tr>\n",
              "      <th>1</th>\n",
              "      <td>tại câu lạc bộ nguyễn du</td>\n",
              "      <td>tại câu_lạc_bộ nguyễn_du</td>\n",
              "      <td>tai cau_lac_bo nguyen_du</td>\n",
              "    </tr>\n",
              "    <tr>\n",
              "      <th>2</th>\n",
              "      <td>tham gia chương trình lần này các ca sĩ hồ ngọ...</td>\n",
              "      <td>tham_gia chương_trình lần này các ca_sĩ hồ ngọ...</td>\n",
              "      <td>tham_gia chuong_trinh lan nay cac ca_si ho ngo...</td>\n",
              "    </tr>\n",
              "    <tr>\n",
              "      <th>3</th>\n",
              "      <td>giống như được hầu hết báo chí ở việt nam nhắc...</td>\n",
              "      <td>giống như được hầu_hết báo_chí ở việt_nam nhắc...</td>\n",
              "      <td>giong nhu duoc hau_het bao_chi o viet_nam nhac...</td>\n",
              "    </tr>\n",
              "    <tr>\n",
              "      <th>4</th>\n",
              "      <td>nhưng đối với người yêu nhạc chịu khó chút xíu...</td>\n",
              "      <td>nhưng đối_với người_yêu nhạc chịu_khó chút_xíu...</td>\n",
              "      <td>nhung doi_voi nguoi_yeu nhac chiu_kho chut_xiu...</td>\n",
              "    </tr>\n",
              "  </tbody>\n",
              "</table>\n",
              "</div>"
            ],
            "text/plain": [
              "                                     original_signed  ...                                           unsigned\n",
              "0  đó là chủ đề sắc màu âm nhạc tháng sẽ diễn ra ...  ...  do la chu_de sac_mau am_nhac thang se dien ra ...\n",
              "1                           tại câu lạc bộ nguyễn du  ...                           tai cau_lac_bo nguyen_du\n",
              "2  tham gia chương trình lần này các ca sĩ hồ ngọ...  ...  tham_gia chuong_trinh lan nay cac ca_si ho ngo...\n",
              "3  giống như được hầu hết báo chí ở việt nam nhắc...  ...  giong nhu duoc hau_het bao_chi o viet_nam nhac...\n",
              "4  nhưng đối với người yêu nhạc chịu khó chút xíu...  ...  nhung doi_voi nguoi_yeu nhac chiu_kho chut_xiu...\n",
              "\n",
              "[5 rows x 3 columns]"
            ]
          },
          "metadata": {
            "tags": []
          },
          "execution_count": 9
        }
      ]
    },
    {
      "cell_type": "markdown",
      "metadata": {
        "id": "KwDTxT9NT-Z5"
      },
      "source": [
        "# Create vocabulary dictionary"
      ]
    },
    {
      "cell_type": "code",
      "metadata": {
        "colab": {
          "base_uri": "https://localhost:8080/"
        },
        "id": "UTS3x4LjPHCM",
        "outputId": "112ad1ac-3dac-48f3-a605-644607ca3555"
      },
      "source": [
        "train_sentence = df.iloc[:500000,2]\n",
        "train_target = df.iloc[:500000,1]\n",
        "\n",
        "train_tokenizer = Tokenizer(filters = '')\n",
        "train_tokenizer.fit_on_texts(train_sentence)\n",
        "\n",
        "label_tokenizer = Tokenizer(filters = '')\n",
        "label_tokenizer.fit_on_texts(train_target)\n",
        "\n",
        "train_vocal_size = len(train_tokenizer.word_index) + 1\n",
        "label_vocal_size = len(label_tokenizer.word_index) + 1\n",
        "\n",
        "print(f'Train vocabulary size: {train_vocal_size}')\n",
        "print(f'Label vocabulary size: {label_vocal_size}')"
      ],
      "execution_count": null,
      "outputs": [
        {
          "output_type": "stream",
          "text": [
            "Train vocabulary size: 27692\n",
            "Label vocabulary size: 34431\n"
          ],
          "name": "stdout"
        }
      ]
    },
    {
      "cell_type": "markdown",
      "metadata": {
        "id": "ZYe2geS9URU2"
      },
      "source": [
        "# Preprocessing data"
      ]
    },
    {
      "cell_type": "code",
      "metadata": {
        "id": "HWmE3mQuUWpl"
      },
      "source": [
        "def PreData(train_vocab,label_vocab,sentence,target,df,MaxLen = 0,name = 'Train'):\n",
        "  sequence = train_tokenizer.texts_to_sequences(sentence)\n",
        "  label = label_tokenizer.texts_to_sequences(target)\n",
        "\n",
        "  if name == 'Train':\n",
        "    padded_sequence = pad_sequences(sequence, padding = \"post\") \n",
        "    padded_label =  pad_sequences(label, padding = \"post\") \n",
        "\n",
        "    MaxLen = len(padded_sequence[0])\n",
        "    print(f'Maximum length train sentence: {MaxLen}')\n",
        "  else:\n",
        "    padded_sequence = pad_sequences(sequence,maxlen = MaxLen,truncating = 'post', padding = \"post\") \n",
        "    padded_label =  pad_sequences(label,maxlen = MaxLen,truncating = 'post', padding = \"post\")\n",
        "  \n",
        "  #padded_label = np.reshape(padded_label,(*padded_label.shape, 1))\n",
        "  pad_seq = pad_sequences(padded_sequence, padded_label.shape[1], padding = \"post\")\n",
        "  pad_seq = pad_seq.reshape((-1, padded_label.shape[-2]))\n",
        "  \n",
        "  return MaxLen, padded_label , padded_sequence, pad_seq.shape\n"
      ],
      "execution_count": null,
      "outputs": []
    },
    {
      "cell_type": "code",
      "metadata": {
        "colab": {
          "base_uri": "https://localhost:8080/"
        },
        "id": "vzEDuXQSXK6j",
        "outputId": "405e36b7-7229-42a2-a003-143cd94de059"
      },
      "source": [
        "train_sentence_length, padded_train_label, train, input_shape = PreData(train_tokenizer,label_tokenizer,train_sentence,train_target,df)"
      ],
      "execution_count": null,
      "outputs": [
        {
          "output_type": "stream",
          "text": [
            "Maximum length train sentence: 230\n"
          ],
          "name": "stdout"
        }
      ]
    },
    {
      "cell_type": "code",
      "metadata": {
        "id": "QuWnEDP1YjVy"
      },
      "source": [
        "test_sentence = df.iloc[500000:,2]\n",
        "test_target = df.iloc[500000:,1]\n",
        "\n",
        "test_sentence.index = range(0,test_sentence.shape[0])\n",
        "test_target.index = range(0,test_target.shape[0])"
      ],
      "execution_count": null,
      "outputs": []
    },
    {
      "cell_type": "code",
      "metadata": {
        "id": "BlcactJ_fyAn"
      },
      "source": [
        "_, padded_test_label, test, __ = PreData(train_tokenizer,label_tokenizer,test_sentence,test_target,df,train_sentence_length,'Test')"
      ],
      "execution_count": null,
      "outputs": []
    },
    {
      "cell_type": "code",
      "metadata": {
        "id": "-mRmdNUgSPo_"
      },
      "source": [
        "embedding_dim = 256\n",
        "learning_rate = 0.003"
      ],
      "execution_count": null,
      "outputs": []
    },
    {
      "cell_type": "code",
      "metadata": {
        "id": "dm6eWh2FWgvE"
      },
      "source": [
        "from tensorflow.keras.models import Sequential\n",
        "from tensorflow.keras.layers import Embedding, Dense, Flatten, TimeDistributed,Dropout,GRU,Bidirectional,RepeatVector,LSTM, Conv2D, GlobalMaxPooling2D, MaxPooling2D\n",
        "from keras.losses import sparse_categorical_crossentropy\n",
        "from keras.optimizers import Adam"
      ],
      "execution_count": null,
      "outputs": []
    },
    {
      "cell_type": "code",
      "metadata": {
        "id": "-g4v-5R4ptQS"
      },
      "source": [
        "def recall_m(y_true, y_pred):\n",
        "    true_positives = K.sum(K.round(K.clip(y_true * y_pred, 0, 1)))\n",
        "    possible_positives = K.sum(K.round(K.clip(y_true, 0, 1)))\n",
        "    recall = true_positives / (possible_positives + K.epsilon())\n",
        "    return recall\n",
        "\n",
        "def precision_m(y_true, y_pred):\n",
        "    true_positives = K.sum(K.round(K.clip(y_true * y_pred, 0, 1)))\n",
        "    predicted_positives = K.sum(K.round(K.clip(y_pred, 0, 1)))\n",
        "    precision = true_positives / (predicted_positives + K.epsilon())\n",
        "    return precision\n",
        "\n",
        "def f1_m(y_true, y_pred):\n",
        "    precision = precision_m(y_true, y_pred)\n",
        "    recall = recall_m(y_true, y_pred)\n",
        "    return 2*((precision*recall)/(precision+recall+K.epsilon()))"
      ],
      "execution_count": null,
      "outputs": []
    },
    {
      "cell_type": "code",
      "metadata": {
        "id": "LvXgqveCgW2s"
      },
      "source": [
        "def Simple_RNN(input_shape, label_vocal_size):\n",
        "   model = Sequential()\n",
        "   model.add(GRU(256, input_shape=input_shape[1:], return_sequences=True))\n",
        "   model.add(TimeDistributed(Dense(1024, activation='relu')))\n",
        "   model.add(Dropout(0.5))\n",
        "   model.add(TimeDistributed(Dense(label_vocal_size, activation='softmax'))) \n",
        "   return model"
      ],
      "execution_count": null,
      "outputs": []
    },
    {
      "cell_type": "code",
      "metadata": {
        "colab": {
          "base_uri": "https://localhost:8080/"
        },
        "id": "PRBv79wX18tV",
        "outputId": "34652a7a-4d16-4588-fb36-fc097cd83973"
      },
      "source": [
        "input_shape"
      ],
      "execution_count": null,
      "outputs": [
        {
          "output_type": "execute_result",
          "data": {
            "text/plain": [
              "(230, 500000)"
            ]
          },
          "metadata": {
            "tags": []
          },
          "execution_count": 19
        }
      ]
    },
    {
      "cell_type": "code",
      "metadata": {
        "id": "y36lZ7aRffEo"
      },
      "source": [
        "def Embed(input_shape,embedding_dim,train_vocal_size,label_vocal_size):\n",
        "  model = Sequential()\n",
        "  model.add(Embedding(train_vocal_size,embedding_dim, input_length = input_shape[1], input_shape=input_shape[1:] ))\n",
        "  model.add(GRU(128,return_sequences=True))\n",
        "  model.add(TimeDistributed(Dense(512, activation='relu')))\n",
        "  model.add(Dropout(0.5))\n",
        "  model.add(TimeDistributed(Dense(label_vocal_size, activation='softmax'))) \n",
        "\n",
        "  return model"
      ],
      "execution_count": null,
      "outputs": []
    },
    {
      "cell_type": "code",
      "metadata": {
        "id": "lK1KjNjYXIqe"
      },
      "source": [
        "def Embedding_Bidirectional_GRU_RELU(input_shape,embedding_dim,train_vocal_size,label_vocal_size):\n",
        "  model = Sequential()\n",
        "  model.add(Embedding(train_vocal_size,embedding_dim, input_length = input_shape[1], input_shape=input_shape[1:] ))\n",
        "  model.add(Bidirectional(GRU(128, return_sequences=True), input_shape=input_shape[1:]))\n",
        "  model.add(TimeDistributed(Dense(1024, activation='relu')))\n",
        "  model.add(Dropout(0.5))\n",
        "  model.add(TimeDistributed(Dense(label_vocal_size, activation='softmax'))) \n",
        "\n",
        "  return model"
      ],
      "execution_count": null,
      "outputs": []
    },
    {
      "cell_type": "code",
      "metadata": {
        "id": "3iuVoJbZddHx"
      },
      "source": [
        "def Embedding_Bidirectional_GRU_TANH(input_shape,embedding_dim,train_vocal_size,label_vocal_size):\n",
        "  model = Sequential()\n",
        "  model.add(Embedding(train_vocal_size,embedding_dim, input_length = input_shape[1], input_shape=input_shape[1:] ))\n",
        "  model.add(Bidirectional(GRU(128, return_sequences=True), input_shape=input_shape[1:]))\n",
        "  model.add(TimeDistributed(Dense(1024, activation='tanh')))\n",
        "  model.add(Dropout(0.5))\n",
        "  model.add(TimeDistributed(Dense(label_vocal_size, activation='softmax'))) \n",
        "\n",
        "  return model"
      ],
      "execution_count": null,
      "outputs": []
    },
    {
      "cell_type": "code",
      "metadata": {
        "id": "Wfa7wfQ3mmFP"
      },
      "source": [
        "def Embedding_Bidirectional_LSTM_RELU(input_shape,embedding_dim,train_vocal_size,label_vocal_size):\n",
        "  model = Sequential()\n",
        "  model.add(Embedding(train_vocal_size,embedding_dim, input_length = input_shape[1], input_shape=input_shape[1:] ))\n",
        "  model.add(Bidirectional(LSTM(128, return_sequences=True), input_shape=input_shape[1:]))\n",
        "  model.add(TimeDistributed(Dense(1024, activation='relu')))\n",
        "  model.add(Dropout(0.5))\n",
        "  model.add(TimeDistributed(Dense(label_vocal_size, activation='softmax'))) \n",
        "\n",
        "  return model"
      ],
      "execution_count": null,
      "outputs": []
    },
    {
      "cell_type": "code",
      "metadata": {
        "id": "LLQH2Z4QdzaW"
      },
      "source": [
        "def Embedding_Bidirectional_LSTM_TANH(input_shape,embedding_dim,train_vocal_size,label_vocal_size):\n",
        "  model = Sequential()\n",
        "  model.add(Embedding(train_vocal_size,embedding_dim, input_length = input_shape[1], input_shape=input_shape[1:] ))\n",
        "  model.add(Bidirectional(LSTM(128, return_sequences=True)),input_shape=input_shape[1:])\n",
        "  model.add(TimeDistributed(Dense(1024, activation='tanh')))\n",
        "  model.add(Dropout(0.5))\n",
        "  model.add(TimeDistributed(Dense(label_vocal_size, activation='softmax'))) \n",
        "\n",
        "  return model"
      ],
      "execution_count": null,
      "outputs": []
    },
    {
      "cell_type": "code",
      "metadata": {
        "id": "LvEid9C0bzdl"
      },
      "source": [
        "def Embedding_Encoder_Decoder(input_shape,embedding_dim,train_vocal_size,label_vocal_size):\n",
        "    model = Sequential()\n",
        "    model.add(Embedding(train_vocal_size,embedding_dim, input_length = input_shape[1], input_shape=input_shape[1:] ))\n",
        "  # Encoder\n",
        "    model.add(GRU(128,input_shape=input_shape[1:], go_backwards=True))\n",
        "    model.add(RepeatVector(input_shape[1]))\n",
        "  # Decoder\n",
        "    model.add(GRU(128, return_sequences=True))\n",
        "    model.add(TimeDistributed(Dense(1024, activation='relu')))\n",
        "    model.add(Dropout(0.5))\n",
        "    model.add(TimeDistributed(Dense(label_vocal_size, activation='softmax')))\n",
        "\n",
        "    return model"
      ],
      "execution_count": null,
      "outputs": []
    },
    {
      "cell_type": "code",
      "metadata": {
        "colab": {
          "base_uri": "https://localhost:8080/"
        },
        "id": "AGx02FIEYIRX",
        "outputId": "06073d43-0e9d-4b57-b08a-1261909973d2"
      },
      "source": [
        "enter = \"4\"\n",
        "#enter = int(input())\n",
        "print('0: Simple RNN model\\n1: Embedding model\\n2: Embedding_Bidirectional_GRU model\\n 3:Embedding_Encoder_Decoder model\\n 4: Embedding_Bidirectional_LSTM model')\n",
        "if int(enter) == 0:\n",
        "  model = Simple_RNN(input_shape, label_vocal_size)\n",
        "elif int(enter) == 1:\n",
        "  model = Embed(input_shape,embedding_dim,train_vocal_size,label_vocal_size)\n",
        "elif int(enter) == 2:\n",
        "  model = Embedding_Bidirectional_GRU_RELU(input_shape,embedding_dim,train_vocal_size,label_vocal_size)\n",
        "elif int(enter) == 3:\n",
        "  model = Embedding_Bidirectional_GRU_TANH(input_shape,embedding_dim,train_vocal_size,label_vocal_size)\n",
        "elif int(enter) == 5:\n",
        "  model = Embedding_Encoder_Decoder(input_shape,embedding_dim,train_vocal_size,label_vocal_size)\n",
        "elif int(enter) == 4:\n",
        "  model = Embedding_Bidirectional_LSTM_RELU(input_shape,embedding_dim,train_vocal_size,label_vocal_size)\n"
      ],
      "execution_count": null,
      "outputs": [
        {
          "output_type": "stream",
          "text": [
            "0: Simple RNN model\n",
            "1: Embedding model\n",
            "2: Embedding_Bidirectional_GRU model\n",
            " 3:Embedding_Encoder_Decoder model\n",
            " 4: Embedding_Bidirectional_LSTM model\n"
          ],
          "name": "stdout"
        }
      ]
    },
    {
      "cell_type": "code",
      "metadata": {
        "id": "aif20CZhYcG0"
      },
      "source": [
        "model.compile(loss = sparse_categorical_crossentropy, optimizer= Adam(learning_rate), metrics=['acc'])"
      ],
      "execution_count": null,
      "outputs": []
    },
    {
      "cell_type": "code",
      "metadata": {
        "colab": {
          "base_uri": "https://localhost:8080/"
        },
        "id": "lAxquSiiYvqT",
        "outputId": "f2365593-82e9-41c4-9c68-cd0ed14b690b"
      },
      "source": [
        "model.summary()"
      ],
      "execution_count": null,
      "outputs": [
        {
          "output_type": "stream",
          "text": [
            "Model: \"sequential_2\"\n",
            "_________________________________________________________________\n",
            "Layer (type)                 Output Shape              Param #   \n",
            "=================================================================\n",
            "embedding_2 (Embedding)      (None, 500000, 256)       7089152   \n",
            "_________________________________________________________________\n",
            "bidirectional_1 (Bidirection (None, 500000, 256)       394240    \n",
            "_________________________________________________________________\n",
            "time_distributed_4 (TimeDist (None, 500000, 1024)      263168    \n",
            "_________________________________________________________________\n",
            "dropout_2 (Dropout)          (None, 500000, 1024)      0         \n",
            "_________________________________________________________________\n",
            "time_distributed_5 (TimeDist (None, 500000, 34431)     35291775  \n",
            "=================================================================\n",
            "Total params: 43,038,335\n",
            "Trainable params: 43,038,335\n",
            "Non-trainable params: 0\n",
            "_________________________________________________________________\n"
          ],
          "name": "stdout"
        }
      ]
    },
    {
      "cell_type": "code",
      "metadata": {
        "colab": {
          "base_uri": "https://localhost:8080/",
          "height": 39
        },
        "id": "qdfRQnQLysk1",
        "outputId": "70f6677f-6a47-46ac-aae0-0233f6b93ac3"
      },
      "source": [
        "from keras.utils.vis_utils import plot_model\n",
        "plot_model(model, to_file='model_plot_params.png', show_shapes=False, show_layer_names=True, rankdir=\"LR\",)"
      ],
      "execution_count": null,
      "outputs": [
        {
          "output_type": "execute_result",
          "data": {
            "image/png": "[encoded data removed]",
            "text/plain": [
              "<IPython.core.display.Image object>"
            ]
          },
          "metadata": {
            "tags": []
          },
          "execution_count": 41
        }
      ]
    },
    {
      "cell_type": "code",
      "metadata": {
        "id": "VG5Xy4DBJqhp"
      },
      "source": [
        "from tensorflow import keras\n",
        "model = keras.models.load_model('/content/drive/MyDrive/Deep Learning/baseline/Tokenize02/History/15:00:31_04:01:21EMBEDED_model.h5')"
      ],
      "execution_count": null,
      "outputs": []
    },
    {
      "cell_type": "code",
      "metadata": {
        "colab": {
          "base_uri": "https://localhost:8080/"
        },
        "id": "RyIIMigybpje",
        "outputId": "f5b3cf87-4b61-49d8-ef3f-059d2f7c097a"
      },
      "source": [
        "from keras import backend as K\n",
        "hist = model.fit(train,padded_train_label,batch_size = 50 , epochs = 1, validation_data = (test , padded_test_label))"
      ],
      "execution_count": null,
      "outputs": [
        {
          "output_type": "stream",
          "text": [
            "WARNING:tensorflow:Model was constructed with shape (None, 500000) for input KerasTensor(type_spec=TensorSpec(shape=(None, 500000), dtype=tf.float32, name='embedding_input'), name='embedding_input', description=\"created by layer 'embedding_input'\"), but it was called on an input with incompatible shape (50, 230).\n",
            "10000/10000 [==============================] - ETA: 0s - loss: 0.0311 - acc: 0.9926WARNING:tensorflow:Model was constructed with shape (None, 500000) for input KerasTensor(type_spec=TensorSpec(shape=(None, 500000), dtype=tf.float32, name='embedding_input'), name='embedding_input', description=\"created by layer 'embedding_input'\"), but it was called on an input with incompatible shape (None, 230).\n",
            "10000/10000 [==============================] - 4682s 467ms/step - loss: 0.0311 - acc: 0.9926 - val_loss: 0.0296 - val_acc: 0.9933\n"
          ],
          "name": "stdout"
        }
      ]
    },
    {
      "cell_type": "code",
      "metadata": {
        "id": "BOgyA3_LL3OX",
        "colab": {
          "base_uri": "https://localhost:8080/"
        },
        "outputId": "6251cb9c-b9a4-47b7-e5e3-1d6852797314"
      },
      "source": [
        "cd /content/drive/MyDrive/Deep Learning/baseline/Tokenize02"
      ],
      "execution_count": null,
      "outputs": [
        {
          "output_type": "stream",
          "text": [
            "/content/drive/.shortcut-targets-by-id/1W6Ppcd24tbrwLTD4MM9gT3p2iLDppXUc/Deep Learning/baseline/Tokenize02\n"
          ],
          "name": "stdout"
        }
      ]
    },
    {
      "cell_type": "code",
      "metadata": {
        "id": "lZgaNJ5gbszW",
        "colab": {
          "base_uri": "https://localhost:8080/"
        },
        "outputId": "7f95fcc7-7ce2-4deb-ec93-cacf6345f27c"
      },
      "source": [
        "current_time = now.strftime(\"%H:%M:%S_%d:%m:%y\")\n",
        "print(\"Current Dateime =\", current_time)\n",
        "\n",
        "data = {'loss': hist.history['loss'], 'accuracy': hist.history['acc'], 'val_loss': hist.history['val_loss'], 'val_acc': hist.history['val_acc']}\n",
        "Csv = pd.DataFrame(data)\n",
        "model.save(f'./{current_time}EMBEDED_model.h5')\n",
        "Csv.to_csv(f'./em_history.csv', index=0)"
      ],
      "execution_count": null,
      "outputs": [
        {
          "output_type": "stream",
          "text": [
            "Current Dateime = 08:23:02_05:01:21\n"
          ],
          "name": "stdout"
        }
      ]
    },
    {
      "cell_type": "code",
      "metadata": {
        "id": "WwdTyNuj1SJa",
        "colab": {
          "base_uri": "https://localhost:8080/"
        },
        "outputId": "b966d798-447b-42a6-fa57-5112cd71def8"
      },
      "source": [
        "hist = model.fit(train,padded_train_label, batch_size = 50, epochs = 2, validation_data = (test , padded_test_label))"
      ],
      "execution_count": null,
      "outputs": [
        {
          "output_type": "stream",
          "text": [
            "Epoch 1/2\n",
            "10000/10000 [==============================] - 4567s 457ms/step - loss: 0.0311 - acc: 0.9926 - val_loss: 0.0295 - val_acc: 0.9933\n",
            "Epoch 2/2\n",
            "10000/10000 [==============================] - 4570s 457ms/step - loss: 0.0300 - acc: 0.9927 - val_loss: 0.0290 - val_acc: 0.9934\n"
          ],
          "name": "stdout"
        }
      ]
    },
    {
      "cell_type": "code",
      "metadata": {
        "id": "tblgku94d44s",
        "colab": {
          "base_uri": "https://localhost:8080/",
          "height": 262
        },
        "outputId": "1059dd17-0732-4f86-b4d2-d2b10768aa5f"
      },
      "source": [
        "current_time = now.strftime(\"%H:%M:%S_%d:%m:%y\")\n",
        "print(\"Current Dateime =\", current_time)\n",
        "\n",
        "data = {'loss': hist.history['loss'], 'accuracy': hist.history['acc'], 'val_loss': hist.history['val_loss'], 'val_acc': hist.history['val_acc']}\n",
        "Csv = pd.DataFrame(data)\n",
        "model.save(f'./{current_time}EMBEDED_model.h5')\n",
        "Csv.to_csv(f'./em_history.csv', index=0, header = False,mode = 'a')"
      ],
      "execution_count": null,
      "outputs": [
        {
          "output_type": "stream",
          "text": [
            "Current Dateime = 19:45:52_03:01:21\n"
          ],
          "name": "stdout"
        },
        {
          "output_type": "error",
          "ename": "NameError",
          "evalue": "ignored",
          "traceback": [
            "\u001b[0;31m---------------------------------------------------------------------------\u001b[0m",
            "\u001b[0;31mNameError\u001b[0m                                 Traceback (most recent call last)",
            "\u001b[0;32m<ipython-input-51-a9ddc486d89e>\u001b[0m in \u001b[0;36m<module>\u001b[0;34m()\u001b[0m\n\u001b[1;32m      2\u001b[0m \u001b[0mprint\u001b[0m\u001b[0;34m(\u001b[0m\u001b[0;34m\"Current Dateime =\"\u001b[0m\u001b[0;34m,\u001b[0m \u001b[0mcurrent_time\u001b[0m\u001b[0;34m)\u001b[0m\u001b[0;34m\u001b[0m\u001b[0;34m\u001b[0m\u001b[0m\n\u001b[1;32m      3\u001b[0m \u001b[0;34m\u001b[0m\u001b[0m\n\u001b[0;32m----> 4\u001b[0;31m \u001b[0mdata\u001b[0m \u001b[0;34m=\u001b[0m \u001b[0;34m{\u001b[0m\u001b[0;34m'loss'\u001b[0m\u001b[0;34m:\u001b[0m \u001b[0mhist\u001b[0m\u001b[0;34m.\u001b[0m\u001b[0mhistory\u001b[0m\u001b[0;34m[\u001b[0m\u001b[0;34m'loss'\u001b[0m\u001b[0;34m]\u001b[0m\u001b[0;34m,\u001b[0m \u001b[0;34m'accuracy'\u001b[0m\u001b[0;34m:\u001b[0m \u001b[0mhist\u001b[0m\u001b[0;34m.\u001b[0m\u001b[0mhistory\u001b[0m\u001b[0;34m[\u001b[0m\u001b[0;34m'acc'\u001b[0m\u001b[0;34m]\u001b[0m\u001b[0;34m,\u001b[0m \u001b[0;34m'val_loss'\u001b[0m\u001b[0;34m:\u001b[0m \u001b[0mhist\u001b[0m\u001b[0;34m.\u001b[0m\u001b[0mhistory\u001b[0m\u001b[0;34m[\u001b[0m\u001b[0;34m'val_loss'\u001b[0m\u001b[0;34m]\u001b[0m\u001b[0;34m,\u001b[0m \u001b[0;34m'val_acc'\u001b[0m\u001b[0;34m:\u001b[0m \u001b[0mhist\u001b[0m\u001b[0;34m.\u001b[0m\u001b[0mhistory\u001b[0m\u001b[0;34m[\u001b[0m\u001b[0;34m'val_acc'\u001b[0m\u001b[0;34m]\u001b[0m\u001b[0;34m}\u001b[0m\u001b[0;34m\u001b[0m\u001b[0;34m\u001b[0m\u001b[0m\n\u001b[0m\u001b[1;32m      5\u001b[0m \u001b[0mCsv\u001b[0m \u001b[0;34m=\u001b[0m \u001b[0mpd\u001b[0m\u001b[0;34m.\u001b[0m\u001b[0mDataFrame\u001b[0m\u001b[0;34m(\u001b[0m\u001b[0mdata\u001b[0m\u001b[0;34m)\u001b[0m\u001b[0;34m\u001b[0m\u001b[0;34m\u001b[0m\u001b[0m\n\u001b[1;32m      6\u001b[0m \u001b[0mmodel\u001b[0m\u001b[0;34m.\u001b[0m\u001b[0msave\u001b[0m\u001b[0;34m(\u001b[0m\u001b[0;34mf'./{current_time}EMBEDED_BID_GRU_RELU_model.h5'\u001b[0m\u001b[0;34m)\u001b[0m\u001b[0;34m\u001b[0m\u001b[0;34m\u001b[0m\u001b[0m\n",
            "\u001b[0;31mNameError\u001b[0m: name 'hist' is not defined"
          ]
        }
      ]
    },
    {
      "cell_type": "code",
      "metadata": {
        "id": "v5trUvX61F58"
      },
      "source": [
        "\n",
        "def logits_to_text(logits, tokenizer):\n",
        "    \"\"\"\n",
        "    Turn logits from a neural network into text using the tokenizer\n",
        "    :param logits: Logits from a neural network\n",
        "    :param tokenizer: Keras Tokenizer fit on the labels\n",
        "    :return: String that represents the text of the logits\n",
        "    \"\"\"\n",
        "    index_to_words = {id: word for word, id in tokenizer.word_index.items()}\n",
        "    index_to_words[0] = ''\n",
        "    List = []\n",
        "    for prediction in np.argmax(logits,1):\n",
        "      if prediction != 0:\n",
        "        List.append(index_to_words[prediction])\n",
        "      else:\n",
        "        pass\n",
        "    return List"
      ],
      "execution_count": null,
      "outputs": []
    },
    {
      "cell_type": "code",
      "metadata": {
        "id": "u9VLSfsDeRsE"
      },
      "source": [
        "from nltk.translate.bleu_score import corpus_bleu\n",
        "A = []\n",
        "B = []\n",
        "for i in range(len(test)):\n",
        "  y_pred1 = model.predict(test[i:i+1])[0]\n",
        "  \n",
        "  pre_text = logits_to_text(y_pred1,label_tokenizer)\n",
        "  true_text = [test_target[i].split(' ')]\n",
        "  A.append(pre_text)\n",
        "  B.append(true_text)\n",
        "corpus_bleu(B,A,weight = (1,0,0,0))"
      ],
      "execution_count": null,
      "outputs": []
    },
    {
      "cell_type": "code",
      "metadata": {
        "id": "pJReZs4J1Xqw"
      },
      "source": [
        "test_sentence = df.iloc[500000:500500,2]\n",
        "test_target = df.iloc[500000:500500,1]\n",
        "\n",
        "test_sentence.index = range(0,test_sentence.shape[0])\n",
        "test_target.index = range(0,test_target.shape[0])"
      ],
      "execution_count": null,
      "outputs": []
    },
    {
      "cell_type": "code",
      "metadata": {
        "id": "9H2fZq4Q1aF1"
      },
      "source": [
        "_, padded_test_label, test, __ = PreData(train_tokenizer,label_tokenizer,test_sentence,test_target,df,train_sentence_length,'Test')"
      ],
      "execution_count": null,
      "outputs": []
    },
    {
      "cell_type": "code",
      "metadata": {
        "colab": {
          "base_uri": "https://localhost:8080/"
        },
        "id": "z3-XbIKy5OKI",
        "outputId": "895164d4-0416-48ea-a15c-59b1ffea2aa9"
      },
      "source": [
        "from nltk.translate.bleu_score import corpus_bleu\n",
        "A = []\n",
        "B = []\n",
        "for i in range(len(test)):\n",
        "  y_pred1 = model.predict(test[i:i+1])[0]\n",
        "  \n",
        "  pre_text = logits_to_text(y_pred1,label_tokenizer)\n",
        "  true_text = [test_target[i].split(' ')]\n",
        "  A.append(pre_text)\n",
        "  B.append(true_text)\n",
        "corpus_bleu(B,A)"
      ],
      "execution_count": null,
      "outputs": [
        {
          "output_type": "execute_result",
          "data": {
            "text/plain": [
              "0.8120644532181187"
            ]
          },
          "metadata": {
            "tags": []
          },
          "execution_count": 27
        }
      ]
    }
  ]
}